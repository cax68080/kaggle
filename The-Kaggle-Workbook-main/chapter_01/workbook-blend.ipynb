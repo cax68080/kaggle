{
 "cells": [
  {
   "cell_type": "code",
   "execution_count": 1,
   "id": "47960894",
   "metadata": {
    "execution": {
     "iopub.execute_input": "2022-07-30T20:57:38.950665Z",
     "iopub.status.busy": "2022-07-30T20:57:38.949942Z",
     "iopub.status.idle": "2022-07-30T20:57:38.966850Z",
     "shell.execute_reply": "2022-07-30T20:57:38.965478Z"
    },
    "papermill": {
     "duration": 0.027111,
     "end_time": "2022-07-30T20:57:38.969575",
     "exception": false,
     "start_time": "2022-07-30T20:57:38.942464",
     "status": "completed"
    },
    "tags": []
   },
   "outputs": [],
   "source": [
    "import pandas as pd\n",
    "import numpy as np"
   ]
  },
  {
   "cell_type": "code",
   "execution_count": 2,
   "id": "4c4b4e7f",
   "metadata": {
    "execution": {
     "iopub.execute_input": "2022-07-30T20:57:38.978285Z",
     "iopub.status.busy": "2022-07-30T20:57:38.977943Z",
     "iopub.status.idle": "2022-07-30T20:57:38.985266Z",
     "shell.execute_reply": "2022-07-30T20:57:38.984276Z"
    },
    "papermill": {
     "duration": 0.01452,
     "end_time": "2022-07-30T20:57:38.987551",
     "exception": false,
     "start_time": "2022-07-30T20:57:38.973031",
     "status": "completed"
    },
    "tags": []
   },
   "outputs": [],
   "source": [
    "def eval_gini(y_true, y_pred):\n",
    "    n_samples = y_true.shape[0]\n",
    "    L_mid = np.linspace(1 / n_samples, 1, n_samples)\n",
    "\n",
    "    pred_order = y_true[y_pred.argsort()]\n",
    "    L_pred = np.cumsum(pred_order) / np.sum(pred_order)\n",
    "    G_pred = np.sum(L_mid - L_pred)\n",
    "\n",
    "    true_order = y_true[y_true.argsort()]\n",
    "    L_true = np.cumsum(true_order) / np.sum(true_order)\n",
    "    G_true = np.sum(L_mid - L_true)\n",
    "\n",
    "    eval_result = G_pred / G_true\n",
    "    return eval_result"
   ]
  },
  {
   "cell_type": "code",
   "execution_count": 3,
   "id": "10310872",
   "metadata": {
    "execution": {
     "iopub.execute_input": "2022-07-30T20:57:38.996216Z",
     "iopub.status.busy": "2022-07-30T20:57:38.995482Z",
     "iopub.status.idle": "2022-07-30T20:57:42.184084Z",
     "shell.execute_reply": "2022-07-30T20:57:42.182728Z"
    },
    "papermill": {
     "duration": 3.196225,
     "end_time": "2022-07-30T20:57:42.187015",
     "exception": false,
     "start_time": "2022-07-30T20:57:38.990790",
     "status": "completed"
    },
    "tags": []
   },
   "outputs": [],
   "source": [
    "lgb_oof = pd.read_csv(\"../input/workbook-lgb/lgb_oof.csv\")\n",
    "dnn_oof = pd.read_csv(\"../input/workbook-dae/dnn_oof.csv\")\n",
    "\n",
    "target = pd.read_csv(\"../input/porto-seguro-safe-driver-prediction/train.csv\", usecols=['id','target']) "
   ]
  },
  {
   "cell_type": "code",
   "execution_count": 4,
   "id": "35e7658b",
   "metadata": {
    "execution": {
     "iopub.execute_input": "2022-07-30T20:57:42.196136Z",
     "iopub.status.busy": "2022-07-30T20:57:42.194995Z",
     "iopub.status.idle": "2022-07-30T20:57:42.503888Z",
     "shell.execute_reply": "2022-07-30T20:57:42.502682Z"
    },
    "papermill": {
     "duration": 0.316622,
     "end_time": "2022-07-30T20:57:42.507150",
     "exception": false,
     "start_time": "2022-07-30T20:57:42.190528",
     "status": "completed"
    },
    "tags": []
   },
   "outputs": [],
   "source": [
    "lgb_oof_ranks = (lgb_oof.target.rank() / len(lgb_oof))\n",
    "dnn_oof_ranks = (dnn_oof.target.rank() / len(dnn_oof))"
   ]
  },
  {
   "cell_type": "code",
   "execution_count": 5,
   "id": "ac06b151",
   "metadata": {
    "execution": {
     "iopub.execute_input": "2022-07-30T20:57:42.515771Z",
     "iopub.status.busy": "2022-07-30T20:57:42.515369Z",
     "iopub.status.idle": "2022-07-30T20:57:44.584257Z",
     "shell.execute_reply": "2022-07-30T20:57:44.583019Z"
    },
    "papermill": {
     "duration": 2.076634,
     "end_time": "2022-07-30T20:57:44.587253",
     "exception": false,
     "start_time": "2022-07-30T20:57:42.510619",
     "status": "completed"
    },
    "tags": []
   },
   "outputs": [
    {
     "name": "stdout",
     "output_type": "stream",
     "text": [
      "starting from a oof lgb baseline 0.28850\n",
      "\n",
      "lgd=0.1 dnn=0.9 -> 0.26632\n",
      "lgd=0.2 dnn=0.8 -> 0.27188\n",
      "lgd=0.3 dnn=0.7 -> 0.27682\n",
      "lgd=0.4 dnn=0.6 -> 0.28102\n",
      "lgd=0.5 dnn=0.5 -> 0.28440\n",
      "lgd=0.6 dnn=0.4 -> 0.28692\n",
      "lgd=0.7 dnn=0.3 -> 0.28857\n",
      "lgd=0.8 dnn=0.2 -> 0.28938\n",
      "lgd=0.9 dnn=0.1 -> 0.28935\n",
      "\n",
      "Best alpha is 0.8\n"
     ]
    }
   ],
   "source": [
    "baseline = eval_gini(y_true=target.target, y_pred=lgb_oof_ranks)\n",
    "\n",
    "print(f\"starting from a oof lgb baseline {baseline:0.5f}\\n\")\n",
    "\n",
    "best_alpha = 1.0\n",
    "\n",
    "for alpha in [0.1, 0.2, 0.3, 0.4, 0.5, 0.6, 0.7, 0.8, 0.9]:\n",
    "    ensemble = alpha * lgb_oof_ranks + (1.0 - alpha) * dnn_oof_ranks\n",
    "    score = eval_gini(y_true=target.target, y_pred=ensemble)\n",
    "    print(f\"lgd={alpha:0.1f} dnn={(1.0 - alpha):0.1f} -> {score:0.5f}\")\n",
    "    \n",
    "    if score > baseline:\n",
    "        baseline = score\n",
    "        best_alpha = alpha\n",
    "        \n",
    "print(f\"\\nBest alpha is {best_alpha:0.1f}\")"
   ]
  },
  {
   "cell_type": "code",
   "execution_count": 6,
   "id": "ae3704e9",
   "metadata": {
    "execution": {
     "iopub.execute_input": "2022-07-30T20:57:44.597141Z",
     "iopub.status.busy": "2022-07-30T20:57:44.596557Z",
     "iopub.status.idle": "2022-07-30T20:57:45.925726Z",
     "shell.execute_reply": "2022-07-30T20:57:45.924165Z"
    },
    "papermill": {
     "duration": 1.337879,
     "end_time": "2022-07-30T20:57:45.929049",
     "exception": false,
     "start_time": "2022-07-30T20:57:44.591170",
     "status": "completed"
    },
    "tags": []
   },
   "outputs": [],
   "source": [
    "lgb_submission = pd.read_csv(\"../input/workbook-lgb/lgb_submission.csv\")\n",
    "dnn_submission = pd.read_csv(\"../input/workbook-dae/dnn_submission.csv\")\n",
    "\n",
    "submission = pd.read_csv(\"../input/porto-seguro-safe-driver-prediction/sample_submission.csv\")"
   ]
  },
  {
   "cell_type": "code",
   "execution_count": 7,
   "id": "10fd2b5b",
   "metadata": {
    "execution": {
     "iopub.execute_input": "2022-07-30T20:57:45.938885Z",
     "iopub.status.busy": "2022-07-30T20:57:45.937993Z",
     "iopub.status.idle": "2022-07-30T20:57:49.459454Z",
     "shell.execute_reply": "2022-07-30T20:57:49.458267Z"
    },
    "papermill": {
     "duration": 3.529131,
     "end_time": "2022-07-30T20:57:49.462068",
     "exception": false,
     "start_time": "2022-07-30T20:57:45.932937",
     "status": "completed"
    },
    "tags": []
   },
   "outputs": [],
   "source": [
    "lgb_ranks = (lgb_submission.target.rank() / len(lgb_submission))\n",
    "dnn_ranks = (dnn_submission.target.rank() / len(dnn_submission))\n",
    "\n",
    "submission.target = lgb_ranks * 0.5 +  dnn_ranks * 0.5\n",
    "\n",
    "submission.to_csv(\"equal_blend_rank.csv\", index=False)"
   ]
  },
  {
   "cell_type": "code",
   "execution_count": 8,
   "id": "41637edb",
   "metadata": {
    "execution": {
     "iopub.execute_input": "2022-07-30T20:57:49.471917Z",
     "iopub.status.busy": "2022-07-30T20:57:49.471089Z",
     "iopub.status.idle": "2022-07-30T20:57:52.879101Z",
     "shell.execute_reply": "2022-07-30T20:57:52.877867Z"
    },
    "papermill": {
     "duration": 3.415968,
     "end_time": "2022-07-30T20:57:52.881998",
     "exception": false,
     "start_time": "2022-07-30T20:57:49.466030",
     "status": "completed"
    },
    "tags": []
   },
   "outputs": [],
   "source": [
    "best_alpha= 0.8\n",
    "\n",
    "lgb_ranks = (lgb_submission.target.rank() / len(lgb_submission))\n",
    "dnn_ranks = (dnn_submission.target.rank() / len(dnn_submission))\n",
    "\n",
    "submission.target = lgb_ranks * best_alpha +  dnn_ranks * (1.0 - best_alpha)\n",
    "\n",
    "submission.to_csv(\"blend_rank.csv\", index=False)"
   ]
  }
 ],
 "metadata": {
  "kernelspec": {
   "display_name": "Python 3",
   "language": "python",
   "name": "python3"
  },
  "language_info": {
   "codemirror_mode": {
    "name": "ipython",
    "version": 3
   },
   "file_extension": ".py",
   "mimetype": "text/x-python",
   "name": "python",
   "nbconvert_exporter": "python",
   "pygments_lexer": "ipython3",
   "version": "3.7.12"
  },
  "papermill": {
   "default_parameters": {},
   "duration": 24.415119,
   "end_time": "2022-07-30T20:57:53.506735",
   "environment_variables": {},
   "exception": null,
   "input_path": "__notebook__.ipynb",
   "output_path": "__notebook__.ipynb",
   "parameters": {},
   "start_time": "2022-07-30T20:57:29.091616",
   "version": "2.3.4"
  }
 },
 "nbformat": 4,
 "nbformat_minor": 5
}
