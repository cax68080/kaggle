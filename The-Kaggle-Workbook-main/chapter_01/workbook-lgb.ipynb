{
 "cells": [
  {
   "cell_type": "code",
   "execution_count": 1,
   "id": "46fd6b07",
   "metadata": {
    "_cell_guid": "b1076dfc-b9ad-4769-8c92-a6c4dae69d19",
    "_uuid": "8f2839f25d086af736a60e9eeb907d3b93b6e0e5",
    "execution": {
     "iopub.execute_input": "2022-07-30T08:39:49.714860Z",
     "iopub.status.busy": "2022-07-30T08:39:49.713757Z",
     "iopub.status.idle": "2022-07-30T08:39:52.680913Z",
     "shell.execute_reply": "2022-07-30T08:39:52.679670Z"
    },
    "papermill": {
     "duration": 2.978557,
     "end_time": "2022-07-30T08:39:52.684125",
     "exception": false,
     "start_time": "2022-07-30T08:39:49.705568",
     "status": "completed"
    },
    "tags": []
   },
   "outputs": [
    {
     "data": {
      "text/html": [
       "<style type='text/css'>\n",
       ".datatable table.frame { margin-bottom: 0; }\n",
       ".datatable table.frame thead { border-bottom: none; }\n",
       ".datatable table.frame tr.coltypes td {  color: #FFFFFF;  line-height: 6px;  padding: 0 0.5em;}\n",
       ".datatable .bool    { background: #DDDD99; }\n",
       ".datatable .object  { background: #565656; }\n",
       ".datatable .int     { background: #5D9E5D; }\n",
       ".datatable .float   { background: #4040CC; }\n",
       ".datatable .str     { background: #CC4040; }\n",
       ".datatable .time    { background: #40CC40; }\n",
       ".datatable .row_index {  background: var(--jp-border-color3);  border-right: 1px solid var(--jp-border-color0);  color: var(--jp-ui-font-color3);  font-size: 9px;}\n",
       ".datatable .frame tbody td { text-align: left; }\n",
       ".datatable .frame tr.coltypes .row_index {  background: var(--jp-border-color0);}\n",
       ".datatable th:nth-child(2) { padding-left: 12px; }\n",
       ".datatable .hellipsis {  color: var(--jp-cell-editor-border-color);}\n",
       ".datatable .vellipsis {  background: var(--jp-layout-color0);  color: var(--jp-cell-editor-border-color);}\n",
       ".datatable .na {  color: var(--jp-cell-editor-border-color);  font-size: 80%;}\n",
       ".datatable .sp {  opacity: 0.25;}\n",
       ".datatable .footer { font-size: 9px; }\n",
       ".datatable .frame_dimensions {  background: var(--jp-border-color3);  border-top: 1px solid var(--jp-border-color0);  color: var(--jp-ui-font-color3);  display: inline-block;  opacity: 0.6;  padding: 1px 10px 1px 5px;}\n",
       "</style>\n"
      ],
      "text/plain": [
       "<IPython.core.display.HTML object>"
      ]
     },
     "metadata": {},
     "output_type": "display_data"
    }
   ],
   "source": [
    "import numpy as np\n",
    "import pandas as pd\n",
    "import optuna\n",
    "import lightgbm as lgb\n",
    "from path import Path\n",
    "from sklearn.model_selection import StratifiedKFold"
   ]
  },
  {
   "cell_type": "code",
   "execution_count": 2,
   "id": "b890f156",
   "metadata": {
    "execution": {
     "iopub.execute_input": "2022-07-30T08:39:52.696260Z",
     "iopub.status.busy": "2022-07-30T08:39:52.695810Z",
     "iopub.status.idle": "2022-07-30T08:39:52.705476Z",
     "shell.execute_reply": "2022-07-30T08:39:52.704393Z"
    },
    "papermill": {
     "duration": 0.018545,
     "end_time": "2022-07-30T08:39:52.707977",
     "exception": false,
     "start_time": "2022-07-30T08:39:52.689432",
     "status": "completed"
    },
    "tags": []
   },
   "outputs": [],
   "source": [
    "class Config:\n",
    "    input_path = Path('../input/porto-seguro-safe-driver-prediction')\n",
    "    optuna_lgb = False\n",
    "    n_estimators = 1500\n",
    "    early_stopping_round = 150\n",
    "    cv_folds = 5\n",
    "    random_state = 0\n",
    "    params = {'objective': 'binary',\n",
    "              'boosting_type': 'gbdt',\n",
    "              'learning_rate': 0.01,\n",
    "              'max_bin': 25,\n",
    "              'num_leaves': 31,\n",
    "              'min_child_samples': 1500,\n",
    "              'colsample_bytree': 0.7,\n",
    "              'subsample_freq': 1,\n",
    "              'subsample': 0.7,\n",
    "              'reg_alpha': 1.0,\n",
    "              'reg_lambda': 1.0,\n",
    "              'verbosity': 0,\n",
    "              'random_state': 0}\n",
    "    \n",
    "config = Config()"
   ]
  },
  {
   "cell_type": "code",
   "execution_count": 3,
   "id": "2bfc9fd4",
   "metadata": {
    "execution": {
     "iopub.execute_input": "2022-07-30T08:39:52.720316Z",
     "iopub.status.busy": "2022-07-30T08:39:52.719548Z",
     "iopub.status.idle": "2022-07-30T08:40:04.770302Z",
     "shell.execute_reply": "2022-07-30T08:40:04.769115Z"
    },
    "papermill": {
     "duration": 12.060232,
     "end_time": "2022-07-30T08:40:04.773236",
     "exception": false,
     "start_time": "2022-07-30T08:39:52.713004",
     "status": "completed"
    },
    "tags": []
   },
   "outputs": [],
   "source": [
    "train = pd.read_csv(config.input_path / 'train.csv', index_col='id')\n",
    "test = pd.read_csv(config.input_path / 'test.csv', index_col='id')\n",
    "submission = pd.read_csv(config.input_path / 'sample_submission.csv', index_col='id')"
   ]
  },
  {
   "cell_type": "code",
   "execution_count": 4,
   "id": "3946b9c4",
   "metadata": {
    "execution": {
     "iopub.execute_input": "2022-07-30T08:40:04.785713Z",
     "iopub.status.busy": "2022-07-30T08:40:04.785026Z",
     "iopub.status.idle": "2022-07-30T08:40:04.790040Z",
     "shell.execute_reply": "2022-07-30T08:40:04.789216Z"
    },
    "papermill": {
     "duration": 0.013557,
     "end_time": "2022-07-30T08:40:04.792155",
     "exception": false,
     "start_time": "2022-07-30T08:40:04.778598",
     "status": "completed"
    },
    "tags": []
   },
   "outputs": [],
   "source": [
    "calc_features = [feat for feat in train.columns if \"_calc\" in feat]\n",
    "cat_features = [feat for feat in train.columns if \"_cat\" in feat]"
   ]
  },
  {
   "cell_type": "code",
   "execution_count": 5,
   "id": "8dd8d23c",
   "metadata": {
    "execution": {
     "iopub.execute_input": "2022-07-30T08:40:04.804118Z",
     "iopub.status.busy": "2022-07-30T08:40:04.803493Z",
     "iopub.status.idle": "2022-07-30T08:40:04.950739Z",
     "shell.execute_reply": "2022-07-30T08:40:04.949246Z"
    },
    "papermill": {
     "duration": 0.156931,
     "end_time": "2022-07-30T08:40:04.954042",
     "exception": false,
     "start_time": "2022-07-30T08:40:04.797111",
     "status": "completed"
    },
    "tags": []
   },
   "outputs": [],
   "source": [
    "# Extracting target\n",
    "target = train[\"target\"]\n",
    "train = train.drop(\"target\", axis=\"columns\")"
   ]
  },
  {
   "cell_type": "code",
   "execution_count": 6,
   "id": "88a3cf95",
   "metadata": {
    "execution": {
     "iopub.execute_input": "2022-07-30T08:40:04.966232Z",
     "iopub.status.busy": "2022-07-30T08:40:04.965767Z",
     "iopub.status.idle": "2022-07-30T08:40:05.230309Z",
     "shell.execute_reply": "2022-07-30T08:40:05.228443Z"
    },
    "papermill": {
     "duration": 0.274069,
     "end_time": "2022-07-30T08:40:05.233251",
     "exception": false,
     "start_time": "2022-07-30T08:40:04.959182",
     "status": "completed"
    },
    "tags": []
   },
   "outputs": [],
   "source": [
    "# Removing calc features\n",
    "train = train.drop(calc_features, axis=\"columns\")\n",
    "test = test.drop(calc_features, axis=\"columns\")"
   ]
  },
  {
   "cell_type": "code",
   "execution_count": 7,
   "id": "35f7321a",
   "metadata": {
    "execution": {
     "iopub.execute_input": "2022-07-30T08:40:05.245503Z",
     "iopub.status.busy": "2022-07-30T08:40:05.245010Z",
     "iopub.status.idle": "2022-07-30T08:40:08.264195Z",
     "shell.execute_reply": "2022-07-30T08:40:08.262614Z"
    },
    "papermill": {
     "duration": 3.033004,
     "end_time": "2022-07-30T08:40:08.271536",
     "exception": false,
     "start_time": "2022-07-30T08:40:05.238532",
     "status": "completed"
    },
    "tags": []
   },
   "outputs": [],
   "source": [
    "# Adding one-hot encoding of cat features\n",
    "train = pd.get_dummies(train, columns=cat_features)\n",
    "test = pd.get_dummies(test, columns=cat_features)"
   ]
  },
  {
   "cell_type": "code",
   "execution_count": 8,
   "id": "45634b52",
   "metadata": {
    "execution": {
     "iopub.execute_input": "2022-07-30T08:40:08.285541Z",
     "iopub.status.busy": "2022-07-30T08:40:08.284770Z",
     "iopub.status.idle": "2022-07-30T08:40:08.291098Z",
     "shell.execute_reply": "2022-07-30T08:40:08.289764Z"
    },
    "papermill": {
     "duration": 0.01597,
     "end_time": "2022-07-30T08:40:08.294034",
     "exception": false,
     "start_time": "2022-07-30T08:40:08.278064",
     "status": "completed"
    },
    "tags": []
   },
   "outputs": [],
   "source": [
    "assert((train.columns==test.columns).all())"
   ]
  },
  {
   "cell_type": "code",
   "execution_count": 9,
   "id": "6d4e4f1b",
   "metadata": {
    "execution": {
     "iopub.execute_input": "2022-07-30T08:40:08.306291Z",
     "iopub.status.busy": "2022-07-30T08:40:08.305802Z",
     "iopub.status.idle": "2022-07-30T08:40:09.530960Z",
     "shell.execute_reply": "2022-07-30T08:40:09.529395Z"
    },
    "papermill": {
     "duration": 1.234753,
     "end_time": "2022-07-30T08:40:09.533778",
     "exception": false,
     "start_time": "2022-07-30T08:40:08.299025",
     "status": "completed"
    },
    "tags": []
   },
   "outputs": [],
   "source": [
    "from numba import jit\n",
    "\n",
    "@jit\n",
    "def eval_gini(y_true, y_pred):\n",
    "    y_true = np.asarray(y_true)\n",
    "    y_true = y_true[np.argsort(y_pred)]\n",
    "    ntrue = 0\n",
    "    gini = 0\n",
    "    delta = 0\n",
    "    n = len(y_true)\n",
    "    for i in range(n-1, -1, -1):\n",
    "        y_i = y_true[i]\n",
    "        ntrue += y_i\n",
    "        gini += y_i * delta\n",
    "        delta += 1 - y_i\n",
    "    gini = 1 - 2 * gini / (ntrue * (n - ntrue))\n",
    "    return gini\n",
    "\n",
    "def gini_lgb(y_true, y_pred):\n",
    "    eval_name = 'normalized_gini_coef'\n",
    "    eval_result = eval_gini(y_true, y_pred)\n",
    "    is_higher_better = True\n",
    "    return eval_name, eval_result, is_higher_better"
   ]
  },
  {
   "cell_type": "code",
   "execution_count": 10,
   "id": "febad662",
   "metadata": {
    "execution": {
     "iopub.execute_input": "2022-07-30T08:40:09.546621Z",
     "iopub.status.busy": "2022-07-30T08:40:09.546088Z",
     "iopub.status.idle": "2022-07-30T08:40:09.564393Z",
     "shell.execute_reply": "2022-07-30T08:40:09.563050Z"
    },
    "papermill": {
     "duration": 0.028159,
     "end_time": "2022-07-30T08:40:09.566967",
     "exception": false,
     "start_time": "2022-07-30T08:40:09.538808",
     "status": "completed"
    },
    "tags": []
   },
   "outputs": [],
   "source": [
    " if config.optuna_lgb:\n",
    "        \n",
    "    def objective(trial):\n",
    "        params = {\n",
    "                'learning_rate': trial.suggest_float(\"learning_rate\", 0.01, 1.0),\n",
    "                'num_leaves': trial.suggest_int(\"num_leaves\", 3, 255),\n",
    "                'min_child_samples': trial.suggest_int(\"min_child_samples\", 3, 3000),\n",
    "                'colsample_bytree': trial.suggest_float(\"colsample_bytree\", 0.1, 1.0),\n",
    "                'subsample_freq': trial.suggest_int(\"subsample_freq\", 0, 10),\n",
    "                'subsample': trial.suggest_float(\"subsample\", 0.1, 1.0),\n",
    "                'reg_alpha': trial.suggest_loguniform(\"reg_alpha\", 1e-9, 10.0),\n",
    "                'reg_lambda': trial.suggest_loguniform(\"reg_lambda\", 1e-9, 10.0),\n",
    "        }\n",
    "        \n",
    "        score = list()\n",
    "        skf = StratifiedKFold(n_splits=config.cv_folds, shuffle=True, random_state=config.random_state)\n",
    "\n",
    "        for train_idx, valid_idx in skf.split(train, target):\n",
    "            X_train, y_train = train.iloc[train_idx], target.iloc[train_idx]\n",
    "            X_valid, y_valid = train.iloc[valid_idx], target.iloc[valid_idx]\n",
    "\n",
    "            model = lgb.LGBMClassifier(**params,\n",
    "                                    n_estimators=1500,\n",
    "                                    early_stopping_round=150,\n",
    "                                    force_row_wise=True)\n",
    "\n",
    "            callbacks=[lgb.early_stopping(stopping_rounds=150, verbose=False)]\n",
    "            model.fit(X_train, y_train, eval_set=[(X_valid, y_valid)], eval_metric=gini_lgb, callbacks=callbacks)\n",
    "            score.append(model.best_score_['valid_0']['normalized_gini_coef'])\n",
    "\n",
    "        return np.mean(score)\n",
    "\n",
    "    study = optuna.create_study(direction=\"maximize\")\n",
    "    study.optimize(objective, n_trials=300)\n",
    "\n",
    "    print(\"Best Gini Normalized Score\", study.best_value)\n",
    "    print(\"Best parameters\", study.best_params)\n",
    "    \n",
    "    params = {'objective': 'binary',\n",
    "            'boosting_type': 'gbdt',\n",
    "            'verbosity': 0,\n",
    "            'random_state': 0}\n",
    "    \n",
    "    params.update(study.best_params)\n",
    "    \n",
    "else:\n",
    "    params = config.params"
   ]
  },
  {
   "cell_type": "code",
   "execution_count": 11,
   "id": "3fdf52dd",
   "metadata": {
    "execution": {
     "iopub.execute_input": "2022-07-30T08:40:09.580832Z",
     "iopub.status.busy": "2022-07-30T08:40:09.579546Z",
     "iopub.status.idle": "2022-07-30T08:50:28.667637Z",
     "shell.execute_reply": "2022-07-30T08:50:28.666080Z"
    },
    "papermill": {
     "duration": 619.098793,
     "end_time": "2022-07-30T08:50:28.671349",
     "exception": false,
     "start_time": "2022-07-30T08:40:09.572556",
     "status": "completed"
    },
    "tags": []
   },
   "outputs": [
    {
     "name": "stdout",
     "output_type": "stream",
     "text": [
      "CV fold 0\n",
      "Training until validation scores don't improve for 150 rounds\n",
      "[100]\tvalid_0's binary_logloss: 0.153243\tvalid_0's normalized_gini_coef: 0.271457\n",
      "[200]\tvalid_0's binary_logloss: 0.15228\tvalid_0's normalized_gini_coef: 0.280599\n",
      "[300]\tvalid_0's binary_logloss: 0.15185\tvalid_0's normalized_gini_coef: 0.286829\n",
      "[400]\tvalid_0's binary_logloss: 0.151651\tvalid_0's normalized_gini_coef: 0.289906\n",
      "[500]\tvalid_0's binary_logloss: 0.151543\tvalid_0's normalized_gini_coef: 0.291906\n",
      "[600]\tvalid_0's binary_logloss: 0.151473\tvalid_0's normalized_gini_coef: 0.293377\n",
      "[700]\tvalid_0's binary_logloss: 0.151437\tvalid_0's normalized_gini_coef: 0.293827\n",
      "[800]\tvalid_0's binary_logloss: 0.151417\tvalid_0's normalized_gini_coef: 0.294276\n",
      "[900]\tvalid_0's binary_logloss: 0.15142\tvalid_0's normalized_gini_coef: 0.294119\n",
      "CV fold 1\n",
      "Training until validation scores don't improve for 150 rounds\n",
      "[100]\tvalid_0's binary_logloss: 0.153553\tvalid_0's normalized_gini_coef: 0.255568\n",
      "[200]\tvalid_0's binary_logloss: 0.152779\tvalid_0's normalized_gini_coef: 0.261176\n",
      "[300]\tvalid_0's binary_logloss: 0.152509\tvalid_0's normalized_gini_coef: 0.264598\n",
      "[400]\tvalid_0's binary_logloss: 0.152392\tvalid_0's normalized_gini_coef: 0.266942\n",
      "[500]\tvalid_0's binary_logloss: 0.152334\tvalid_0's normalized_gini_coef: 0.268508\n",
      "[600]\tvalid_0's binary_logloss: 0.15231\tvalid_0's normalized_gini_coef: 0.269259\n",
      "[700]\tvalid_0's binary_logloss: 0.152308\tvalid_0's normalized_gini_coef: 0.269299\n",
      "[800]\tvalid_0's binary_logloss: 0.1523\tvalid_0's normalized_gini_coef: 0.269814\n",
      "[900]\tvalid_0's binary_logloss: 0.152298\tvalid_0's normalized_gini_coef: 0.270119\n",
      "CV fold 2\n",
      "Training until validation scores don't improve for 150 rounds\n",
      "[100]\tvalid_0's binary_logloss: 0.15349\tvalid_0's normalized_gini_coef: 0.250438\n",
      "[200]\tvalid_0's binary_logloss: 0.152638\tvalid_0's normalized_gini_coef: 0.261463\n",
      "[300]\tvalid_0's binary_logloss: 0.152286\tvalid_0's normalized_gini_coef: 0.267762\n",
      "[400]\tvalid_0's binary_logloss: 0.15211\tvalid_0's normalized_gini_coef: 0.271644\n",
      "[500]\tvalid_0's binary_logloss: 0.152015\tvalid_0's normalized_gini_coef: 0.274152\n",
      "[600]\tvalid_0's binary_logloss: 0.151963\tvalid_0's normalized_gini_coef: 0.275609\n",
      "[700]\tvalid_0's binary_logloss: 0.151933\tvalid_0's normalized_gini_coef: 0.276576\n",
      "[800]\tvalid_0's binary_logloss: 0.151919\tvalid_0's normalized_gini_coef: 0.276946\n",
      "[900]\tvalid_0's binary_logloss: 0.151906\tvalid_0's normalized_gini_coef: 0.277448\n",
      "[1000]\tvalid_0's binary_logloss: 0.151911\tvalid_0's normalized_gini_coef: 0.277363\n",
      "CV fold 3\n",
      "Training until validation scores don't improve for 150 rounds\n",
      "[100]\tvalid_0's binary_logloss: 0.153151\tvalid_0's normalized_gini_coef: 0.28492\n",
      "[200]\tvalid_0's binary_logloss: 0.152081\tvalid_0's normalized_gini_coef: 0.294826\n",
      "[300]\tvalid_0's binary_logloss: 0.151594\tvalid_0's normalized_gini_coef: 0.301155\n",
      "[400]\tvalid_0's binary_logloss: 0.151332\tvalid_0's normalized_gini_coef: 0.305416\n",
      "[500]\tvalid_0's binary_logloss: 0.151173\tvalid_0's normalized_gini_coef: 0.308713\n",
      "[600]\tvalid_0's binary_logloss: 0.151074\tvalid_0's normalized_gini_coef: 0.310518\n",
      "[700]\tvalid_0's binary_logloss: 0.151014\tvalid_0's normalized_gini_coef: 0.311803\n",
      "[800]\tvalid_0's binary_logloss: 0.150976\tvalid_0's normalized_gini_coef: 0.312533\n",
      "[900]\tvalid_0's binary_logloss: 0.150947\tvalid_0's normalized_gini_coef: 0.31291\n",
      "[1000]\tvalid_0's binary_logloss: 0.150928\tvalid_0's normalized_gini_coef: 0.313239\n",
      "[1100]\tvalid_0's binary_logloss: 0.15092\tvalid_0's normalized_gini_coef: 0.313284\n",
      "[1200]\tvalid_0's binary_logloss: 0.150921\tvalid_0's normalized_gini_coef: 0.313124\n",
      "CV fold 4\n",
      "Training until validation scores don't improve for 150 rounds\n",
      "[100]\tvalid_0's binary_logloss: 0.153417\tvalid_0's normalized_gini_coef: 0.259211\n",
      "[200]\tvalid_0's binary_logloss: 0.152528\tvalid_0's normalized_gini_coef: 0.268649\n",
      "[300]\tvalid_0's binary_logloss: 0.152123\tvalid_0's normalized_gini_coef: 0.27534\n",
      "[400]\tvalid_0's binary_logloss: 0.15192\tvalid_0's normalized_gini_coef: 0.279392\n",
      "[500]\tvalid_0's binary_logloss: 0.151813\tvalid_0's normalized_gini_coef: 0.28184\n",
      "[600]\tvalid_0's binary_logloss: 0.151733\tvalid_0's normalized_gini_coef: 0.283741\n",
      "[700]\tvalid_0's binary_logloss: 0.151682\tvalid_0's normalized_gini_coef: 0.284936\n",
      "[800]\tvalid_0's binary_logloss: 0.151647\tvalid_0's normalized_gini_coef: 0.286006\n",
      "[900]\tvalid_0's binary_logloss: 0.151625\tvalid_0's normalized_gini_coef: 0.28652\n",
      "[1000]\tvalid_0's binary_logloss: 0.151608\tvalid_0's normalized_gini_coef: 0.286903\n",
      "[1100]\tvalid_0's binary_logloss: 0.151595\tvalid_0's normalized_gini_coef: 0.287265\n",
      "[1200]\tvalid_0's binary_logloss: 0.15159\tvalid_0's normalized_gini_coef: 0.287404\n",
      "[1300]\tvalid_0's binary_logloss: 0.151592\tvalid_0's normalized_gini_coef: 0.287313\n",
      "[1400]\tvalid_0's binary_logloss: 0.151593\tvalid_0's normalized_gini_coef: 0.287344\n",
      "Early stopping, best iteration is:\n",
      "[1264]\tvalid_0's binary_logloss: 0.151586\tvalid_0's normalized_gini_coef: 0.287481\n"
     ]
    }
   ],
   "source": [
    "preds = np.zeros(len(test))\n",
    "oof = np.zeros(len(train))\n",
    "metric_evaluations = list()\n",
    "\n",
    "skf = StratifiedKFold(n_splits=config.cv_folds, shuffle=True, random_state=config.random_state)\n",
    "\n",
    "for idx, (train_idx, valid_idx) in enumerate(skf.split(train, target)):\n",
    "    print(f\"CV fold {idx}\")\n",
    "    X_train, y_train = train.iloc[train_idx], target.iloc[train_idx]\n",
    "    X_valid, y_valid = train.iloc[valid_idx], target.iloc[valid_idx]\n",
    "    \n",
    "    model = lgb.LGBMClassifier(**params,\n",
    "                               n_estimators=config.n_estimators,\n",
    "                               early_stopping_round=config.early_stopping_round,\n",
    "                               force_row_wise=True)\n",
    "    \n",
    "    callbacks=[lgb.early_stopping(stopping_rounds=150), \n",
    "               lgb.log_evaluation(period=100, show_stdv=False)]\n",
    "                                                                                           \n",
    "    model.fit(X_train, y_train, eval_set=[(X_valid, y_valid)], eval_metric=gini_lgb, callbacks=callbacks)\n",
    "    metric_evaluations.append(model.best_score_['valid_0']['normalized_gini_coef'])\n",
    "    preds += model.predict_proba(test, num_iteration=model.best_iteration_)[:,1] / skf.n_splits\n",
    "    oof[valid_idx] = model.predict_proba(X_valid, num_iteration=model.best_iteration_)[:,1]"
   ]
  },
  {
   "cell_type": "code",
   "execution_count": 12,
   "id": "95200173",
   "metadata": {
    "execution": {
     "iopub.execute_input": "2022-07-30T08:50:28.693817Z",
     "iopub.status.busy": "2022-07-30T08:50:28.693294Z",
     "iopub.status.idle": "2022-07-30T08:50:28.700032Z",
     "shell.execute_reply": "2022-07-30T08:50:28.699239Z"
    },
    "papermill": {
     "duration": 0.021486,
     "end_time": "2022-07-30T08:50:28.703357",
     "exception": false,
     "start_time": "2022-07-30T08:50:28.681871",
     "status": "completed"
    },
    "tags": []
   },
   "outputs": [
    {
     "name": "stdout",
     "output_type": "stream",
     "text": [
      "LightGBM CV Gini Normalized Score: 0.289 (0.015)\n"
     ]
    }
   ],
   "source": [
    "print(f\"LightGBM CV Gini Normalized Score: {np.mean(metric_evaluations):0.3f} ({np.std(metric_evaluations):0.3f})\")"
   ]
  },
  {
   "cell_type": "code",
   "execution_count": 13,
   "id": "1b2c8569",
   "metadata": {
    "execution": {
     "iopub.execute_input": "2022-07-30T08:50:28.725183Z",
     "iopub.status.busy": "2022-07-30T08:50:28.723826Z",
     "iopub.status.idle": "2022-07-30T08:50:32.297656Z",
     "shell.execute_reply": "2022-07-30T08:50:32.296560Z"
    },
    "papermill": {
     "duration": 3.587616,
     "end_time": "2022-07-30T08:50:32.300579",
     "exception": false,
     "start_time": "2022-07-30T08:50:28.712963",
     "status": "completed"
    },
    "tags": []
   },
   "outputs": [],
   "source": [
    "submission['target'] = preds\n",
    "submission.to_csv('lgb_submission.csv')"
   ]
  },
  {
   "cell_type": "code",
   "execution_count": 14,
   "id": "c62c62c5",
   "metadata": {
    "execution": {
     "iopub.execute_input": "2022-07-30T08:50:32.321371Z",
     "iopub.status.busy": "2022-07-30T08:50:32.320897Z",
     "iopub.status.idle": "2022-07-30T08:50:34.679613Z",
     "shell.execute_reply": "2022-07-30T08:50:34.678444Z"
    },
    "papermill": {
     "duration": 2.37259,
     "end_time": "2022-07-30T08:50:34.682689",
     "exception": false,
     "start_time": "2022-07-30T08:50:32.310099",
     "status": "completed"
    },
    "tags": []
   },
   "outputs": [],
   "source": [
    "oofs = target.to_frame()\n",
    "oofs['target'] = oof\n",
    "oofs.to_csv('lgb_oof.csv')"
   ]
  }
 ],
 "metadata": {
  "kernelspec": {
   "display_name": "Python 3",
   "language": "python",
   "name": "python3"
  },
  "language_info": {
   "codemirror_mode": {
    "name": "ipython",
    "version": 3
   },
   "file_extension": ".py",
   "mimetype": "text/x-python",
   "name": "python",
   "nbconvert_exporter": "python",
   "pygments_lexer": "ipython3",
   "version": "3.7.12"
  },
  "papermill": {
   "default_parameters": {},
   "duration": 657.129388,
   "end_time": "2022-07-30T08:50:36.423479",
   "environment_variables": {},
   "exception": null,
   "input_path": "__notebook__.ipynb",
   "output_path": "__notebook__.ipynb",
   "parameters": {},
   "start_time": "2022-07-30T08:39:39.294091",
   "version": "2.3.4"
  }
 },
 "nbformat": 4,
 "nbformat_minor": 5
}
